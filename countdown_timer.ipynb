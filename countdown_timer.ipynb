{
 "cells": [
  {
   "cell_type": "code",
   "execution_count": 1,
   "id": "ac1c0b35",
   "metadata": {},
   "outputs": [],
   "source": [
    "import time"
   ]
  },
  {
   "cell_type": "markdown",
   "id": "e97d17cc",
   "metadata": {},
   "source": [
    "\n",
    "\n",
    "This code creates a countdown timer in Python. Let me explain it step by step:\n",
    "\n",
    "1. We import the `time` module, which helps with time-related operations.\n",
    "\n",
    "2. We define a function called `countdown_timer` that takes hours and minutes as input.\n",
    "\n",
    "3. Inside the function, we calculate the total time in seconds by converting hours to seconds (1 hour = 3600 seconds) and minutes to seconds (1 minute = 60 seconds). We store this in `total_seconds`.\n",
    "\n",
    "4. We print a message to indicate that the countdown timer has started with the given hours and minutes.\n",
    "\n",
    "5. We enter a `while` loop that continues as long as there are remaining seconds (`total_seconds > 0`).\n",
    "\n",
    "6. Inside the loop, we use `divmod` to convert `total_seconds` into minutes and seconds, and we format them to have leading zeros, like \"02:45\". This formatted time is stored in the `timeformat` variable.\n",
    "\n",
    "7. We print the `timeformat` on the same line to continuously display the remaining time.\n",
    "\n",
    "8. We use `time.sleep(1)` to pause the program for 1 second in each iteration. This creates a real-time countdown effect.\n",
    "\n",
    "9. We decrement `total_seconds` by 1 in each iteration to keep track of the remaining time.\n",
    "\n",
    "10. Once `total_seconds` reaches 0, the loop exits, and we print \"Countdown timer completed!\"\n",
    "\n",
    "You can use this code to create a countdown timer by entering the desired hours and minutes. The timer will update every second until it reaches 0, indicating that the countdown is complete."
   ]
  },
  {
   "cell_type": "code",
   "execution_count": 3,
   "id": "767a27e5",
   "metadata": {},
   "outputs": [
    {
     "name": "stdout",
     "output_type": "stream",
     "text": [
      "Enter countdown hours: 0\n",
      "Enter countdown minutes: 0\n",
      "countdown_timer started from 0 and 0\n",
      "counter_timer completed\n"
     ]
    }
   ],
   "source": [
    "\n",
    "\n",
    "def countdown_timer(hours, mins):\n",
    "    # Calculate the total number of seconds in the countdown timer\n",
    "    total_sec = (hours * 3600) + (mins * 60)\n",
    "    \n",
    "    # Print a message indicating the start of the countdown timer\n",
    "    print(f'Countdown timer started from {hours} hours and {mins} minutes.')\n",
    "          \n",
    "    # Continue the countdown until total_sec reaches 0\n",
    "    while total_sec > 0:\n",
    "        # Convert total_sec to minutes and seconds\n",
    "        min, sec = divmod(total_sec, 60)\n",
    "        \n",
    "        # Format the time as \"MM:SS\"\n",
    "        timeformat = f\"{min:02d}:{sec:02d}\"\n",
    "        \n",
    "        # Print the formatted time on the same line (overwrite the previous output)\n",
    "        print(timeformat, end='\\r')\n",
    "          \n",
    "        # Wait for 1 second\n",
    "        time.sleep(1)\n",
    "        \n",
    "        # Decrement total_sec by 1\n",
    "        total_sec -= 1\n",
    "    \n",
    "    # Print a message when the countdown is completed\n",
    "    print('\\nCountdown timer completed')\n",
    "\n",
    "try:\n",
    "    # Get user input for hours and minutes\n",
    "    countdown_hours = int(input(\"Enter countdown hours: \"))\n",
    "    countdown_minutes = int(input(\"Enter countdown minutes: \"))\n",
    "    \n",
    "    # Start the countdown timer with the user's input\n",
    "    countdown_timer(countdown_hours, countdown_minutes)\n",
    "except ValueError:\n",
    "    print(\"Invalid input. Please enter valid hours and minutes.\")\n"
   ]
  },
  {
   "cell_type": "code",
   "execution_count": null,
   "id": "7be299b4",
   "metadata": {},
   "outputs": [],
   "source": [
    "import time\n",
    "\n",
    "def countdown_timer(hours, mins, secs):\n",
    "    # Calculate the total number of seconds in the countdown timer\n",
    "    total_seconds = (hours * 3600) + (mins * 60) + secs\n",
    "    print(f\"Countdown timer started for {hours} hours, {mins} minutes, and {secs} seconds.\")\n",
    "          \n",
    "    # Continue the countdown until total_seconds reaches 0\n",
    "    while total_seconds > 0:\n",
    "        # Convert total_seconds to hours and remainder\n",
    "        hours, remainder = divmod(total_seconds, 3600)\n",
    "        \n",
    "        # Convert remainder to minutes and seconds\n",
    "        mins, secs = divmod(remainder, 60)\n",
    "        \n",
    "        # Format the time as \"HH:MM:SS\"\n",
    "        timeformat = f\"{hours:02d}:{mins:02d}:{secs:02d}\"\n",
    "        \n",
    "        # Print the formatted time on the same line (overwrite the previous output)\n",
    "        print(timeformat, end='\\r')\n",
    "          \n",
    "        # Wait for 1 second\n",
    "        time.sleep(1)\n",
    "        \n",
    "        # Decrement total_seconds by 1\n",
    "        total_seconds -= 1\n",
    "          \n",
    "    # Print a message when the countdown is completed\n",
    "    print('\\nCountdown timer completed!')\n",
    "\n",
    "try:\n",
    "    # Get user input for hours, minutes, and seconds\n",
    "    countdown_hours = int(input(\"Enter countdown hours: \"))\n",
    "    countdown_minutes = int(input(\"Enter countdown minutes: \"))\n",
    "    countdown_seconds = int(input(\"Enter countdown seconds: \"))\n",
    "    \n",
    "    # Start the countdown timer with the user's input\n",
    "    countdown_timer(countdown_hours, countdown_minutes, countdown_seconds)\n",
    "except ValueError:\n",
    "    print(\"Invalid input. Please enter valid hours, minutes, and seconds.\")\n"
   ]
  },
  {
   "cell_type": "code",
   "execution_count": null,
   "id": "1b96dbff",
   "metadata": {},
   "outputs": [],
   "source": []
  }
 ],
 "metadata": {
  "kernelspec": {
   "display_name": "Python 3 (ipykernel)",
   "language": "python",
   "name": "python3"
  },
  "language_info": {
   "codemirror_mode": {
    "name": "ipython",
    "version": 3
   },
   "file_extension": ".py",
   "mimetype": "text/x-python",
   "name": "python",
   "nbconvert_exporter": "python",
   "pygments_lexer": "ipython3",
   "version": "3.9.12"
  }
 },
 "nbformat": 4,
 "nbformat_minor": 5
}
